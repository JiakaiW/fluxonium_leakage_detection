{
 "cells": [
  {
   "cell_type": "code",
   "execution_count": 6,
   "metadata": {},
   "outputs": [],
   "source": [
    "import glob\n",
    "import re\n",
    "import os\n",
    "from moviepy import *\n",
    "\n",
    "def extract_float_from_filename(fname):\n",
    "    \"\"\"\n",
    "    Extract float from filename of form:\n",
    "      'g_{scientific}.png'\n",
    "    e.g., 'g_9.766e-08.png' -> 9.766e-08\n",
    "    Returns a float for sorting.\n",
    "    \"\"\"\n",
    "    basename = os.path.basename(fname)  # e.g., 'g_9.766e-08.png'\n",
    "    \n",
    "    # Regex capturing digits, decimal point, optional exponent\n",
    "    match = re.search(r'g_(.+)\\.png', basename)  # match whatever is between g_ and .png\n",
    "    if not match:\n",
    "        # fallback, or raise an error\n",
    "        return 0.0\n",
    "    return float(match.group(1))\n",
    "\n",
    "\n",
    "def make_mp4_from_pngs(images_folder=\"figures\", output_mp4=\"animation.mp4\", fps=5):\n",
    "    png_files = glob.glob(os.path.join(images_folder, \"*.png\"))\n",
    "    png_files.sort(key=extract_float_from_filename)\n",
    "    clip = ImageSequenceClip(png_files, fps=fps)\n",
    "    clip.write_videofile(output_mp4, codec=\"libx264\")\n"
   ]
  },
  {
   "cell_type": "code",
   "execution_count": 7,
   "metadata": {},
   "outputs": [
    {
     "name": "stdout",
     "output_type": "stream",
     "text": [
      "MoviePy - Building video animation.mp4.\n",
      "MoviePy - Writing video animation.mp4\n",
      "\n"
     ]
    },
    {
     "name": "stderr",
     "output_type": "stream",
     "text": [
      "                                                                         \r"
     ]
    },
    {
     "name": "stdout",
     "output_type": "stream",
     "text": [
      "MoviePy - Done !\n",
      "MoviePy - video ready animation.mp4\n"
     ]
    }
   ],
   "source": [
    "make_mp4_from_pngs()"
   ]
  },
  {
   "cell_type": "code",
   "execution_count": null,
   "metadata": {},
   "outputs": [],
   "source": []
  }
 ],
 "metadata": {
  "kernelspec": {
   "display_name": "dynamiqs",
   "language": "python",
   "name": "python3"
  },
  "language_info": {
   "codemirror_mode": {
    "name": "ipython",
    "version": 3
   },
   "file_extension": ".py",
   "mimetype": "text/x-python",
   "name": "python",
   "nbconvert_exporter": "python",
   "pygments_lexer": "ipython3",
   "version": "3.10.16"
  }
 },
 "nbformat": 4,
 "nbformat_minor": 2
}
