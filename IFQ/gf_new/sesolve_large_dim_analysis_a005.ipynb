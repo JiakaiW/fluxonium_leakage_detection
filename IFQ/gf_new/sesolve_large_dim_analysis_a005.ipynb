{
 "cells": [
  {
   "cell_type": "code",
   "execution_count": 1,
   "metadata": {},
   "outputs": [],
   "source": [
    "import pickle\n",
    "import numpy as np\n",
    "import matplotlib.pyplot as plt\n",
    "from tqdm import tqdm\n",
    "import qutip\n",
    "from copy import deepcopy\n",
    "from CoupledQuantumSystems.systems import FluxoniumOscillatorSystem\n",
    "from CoupledQuantumSystems.drive import DriveTerm,square_pulse_with_rise_fall\n",
    "from CoupledQuantumSystems.evo_parrallel import run_parallel_ODEsolve_and_post_process_jobs_with_different_systems"
   ]
  },
  {
   "cell_type": "code",
   "execution_count": 2,
   "metadata": {},
   "outputs": [],
   "source": [
    "max_ql = 25\n",
    "max_ol = 200\n",
    "EJ = 4\n",
    "EC = EJ/2.0\n",
    "EL = EJ/30\n",
    "Er = 13.63285461\n",
    "\n",
    "g = 0.3\n",
    "w_d = 13.6355\n",
    "amp = 0.01\n",
    "kappa = 2e-3\n",
    "\n",
    "tot_time =500\n",
    "tlist = np.linspace(0, tot_time, tot_time)\n",
    "# system  =  FluxoniumOscillatorSystem(\n",
    "#                 EJ = EJ,\n",
    "#                 EC = EC,\n",
    "#                 EL = EL,\n",
    "#                 Er = Er,\n",
    "#                 g_strength = g,\n",
    "#                 kappa=kappa,\n",
    "#                 qubit_level = max_ql,\n",
    "#                 osc_level = max_ol,\n",
    "#                 products_to_keep=[[ql, ol] for ql in range(max_ql) for ol in range(max_ol) ],\n",
    "#                 computaional_states = '0,2',\n",
    "#                 )\n",
    "\n",
    "# with open('gf_mcsolve_system_g3a01k002.pkl', 'wb') as f:\n",
    "#     pickle.dump(system,f)"
   ]
  },
  {
   "cell_type": "code",
   "execution_count": 3,
   "metadata": {},
   "outputs": [],
   "source": [
    "\n",
    "with open('gf_mcsolve_system_g3a01k002.pkl', 'rb') as f:\n",
    "    system = pickle.load(f)"
   ]
  },
  {
   "cell_type": "markdown",
   "metadata": {},
   "source": [
    "# 2 store the mcsolve jobs"
   ]
  },
  {
   "cell_type": "code",
   "execution_count": 4,
   "metadata": {},
   "outputs": [
    {
     "name": "stdout",
     "output_type": "stream",
     "text": [
      " Total run time: 4584.00s] Elapsed 4584.00s / Remaining 00:00:00:00\n"
     ]
    },
    {
     "name": "stderr",
     "output_type": "stream",
     "text": [
      "Processing states with pad_back_custom:   9%|▉         | 47/500 [00:01<00:18, 24.54it/s]"
     ]
    },
    {
     "name": "stdout",
     "output_type": "stream",
     "text": [
      " [*********97%********** ] Elapsed 4585.87s / Remaining 00:00:02:21"
     ]
    },
    {
     "name": "stderr",
     "output_type": "stream",
     "text": [
      "Processing states with pad_back_custom:  14%|█▍        | 71/500 [00:02<00:18, 23.04it/s]"
     ]
    },
    {
     "name": "stdout",
     "output_type": "stream",
     "text": [
      " [*********97%********** ] Elapsed 4587.02s / Remaining 00:00:02:21"
     ]
    },
    {
     "name": "stderr",
     "output_type": "stream",
     "text": [
      "Processing states with pad_back_custom:  25%|██▌       | 127/500 [00:05<00:13, 26.81it/s]"
     ]
    },
    {
     "name": "stdout",
     "output_type": "stream",
     "text": [
      " [*********99%***********] Elapsed 4589.09s / Remaining 00:00:00:46"
     ]
    },
    {
     "name": "stderr",
     "output_type": "stream",
     "text": [
      "Processing states with pad_back_custom:  39%|███▊      | 193/500 [00:08<00:13, 22.69it/s]"
     ]
    },
    {
     "name": "stdout",
     "output_type": "stream",
     "text": [
      " [*********97%********** ] Elapsed 4591.94s / Remaining 00:00:02:22"
     ]
    },
    {
     "name": "stderr",
     "output_type": "stream",
     "text": [
      "Processing states with pad_back_custom:  52%|█████▏    | 261/500 [00:10<00:09, 24.87it/s]"
     ]
    },
    {
     "name": "stdout",
     "output_type": "stream",
     "text": [
      " [*********97%********** ] Elapsed 4594.85s / Remaining 00:00:02:22"
     ]
    },
    {
     "name": "stderr",
     "output_type": "stream",
     "text": [
      "Processing states with pad_back_custom:  57%|█████▋    | 285/500 [00:11<00:08, 24.15it/s]"
     ]
    },
    {
     "name": "stdout",
     "output_type": "stream",
     "text": [
      " [*********97%********** ] Elapsed 4595.86s / Remaining 00:00:02:22"
     ]
    },
    {
     "name": "stderr",
     "output_type": "stream",
     "text": [
      "Processing states with pad_back_custom:  79%|███████▉  | 397/500 [00:16<00:04, 22.48it/s]"
     ]
    },
    {
     "name": "stdout",
     "output_type": "stream",
     "text": [
      " [*********99%***********] Elapsed 4600.35s / Remaining 00:00:00:46"
     ]
    },
    {
     "name": "stderr",
     "output_type": "stream",
     "text": [
      "Processing states with pad_back_custom:  81%|████████  | 403/500 [00:16<00:04, 23.60it/s]"
     ]
    },
    {
     "name": "stdout",
     "output_type": "stream",
     "text": [
      " [*********97%********** ] Elapsed 4600.59s / Remaining 00:00:02:22"
     ]
    },
    {
     "name": "stderr",
     "output_type": "stream",
     "text": [
      "Processing states with pad_back_custom:  90%|█████████ | 452/500 [00:18<00:01, 25.95it/s]"
     ]
    },
    {
     "name": "stdout",
     "output_type": "stream",
     "text": [
      " [*********99%***********] Elapsed 4602.69s / Remaining 00:00:00:46"
     ]
    },
    {
     "name": "stderr",
     "output_type": "stream",
     "text": [
      "Processing states with pad_back_custom: 100%|██████████| 500/500 [00:20<00:00, 24.25it/s]\n"
     ]
    },
    {
     "name": "stdout",
     "output_type": "stream",
     "text": [
      " Total run time: 4619.96s] Elapsed 4619.96s / Remaining 00:00:00:00\n"
     ]
    },
    {
     "name": "stderr",
     "output_type": "stream",
     "text": [
      "Processing states with pad_back_custom:  10%|█         | 52/500 [00:02<00:17, 25.25it/s]"
     ]
    },
    {
     "name": "stdout",
     "output_type": "stream",
     "text": [
      " [*********99%***********] Elapsed 4622.12s / Remaining 00:00:00:46"
     ]
    },
    {
     "name": "stderr",
     "output_type": "stream",
     "text": [
      "Processing states with pad_back_custom:  21%|██        | 103/500 [00:04<00:14, 27.71it/s]"
     ]
    },
    {
     "name": "stdout",
     "output_type": "stream",
     "text": [
      " [*********98%***********] Elapsed 4624.32s / Remaining 00:00:01:34"
     ]
    },
    {
     "name": "stderr",
     "output_type": "stream",
     "text": [
      "Processing states with pad_back_custom:  30%|███       | 152/500 [00:06<00:14, 23.92it/s]"
     ]
    },
    {
     "name": "stdout",
     "output_type": "stream",
     "text": [
      " [*********98%***********] Elapsed 4626.30s / Remaining 00:00:01:34"
     ]
    },
    {
     "name": "stderr",
     "output_type": "stream",
     "text": [
      "Processing states with pad_back_custom:  47%|████▋     | 233/500 [00:09<00:11, 23.27it/s]"
     ]
    },
    {
     "name": "stdout",
     "output_type": "stream",
     "text": [
      " [*********98%***********] Elapsed 4629.41s / Remaining 00:00:01:34"
     ]
    },
    {
     "name": "stderr",
     "output_type": "stream",
     "text": [
      "Processing states with pad_back_custom:  55%|█████▌    | 275/500 [00:11<00:09, 24.66it/s]"
     ]
    },
    {
     "name": "stdout",
     "output_type": "stream",
     "text": [
      " [********100%***********] Elapsed 4631.06s / Remaining 00:00:00:00"
     ]
    },
    {
     "name": "stderr",
     "output_type": "stream",
     "text": [
      "Processing states with pad_back_custom:  61%|██████    | 306/500 [00:12<00:07, 24.74it/s]"
     ]
    },
    {
     "name": "stdout",
     "output_type": "stream",
     "text": [
      " [*********98%***********] Elapsed 4632.69s / Remaining 00:00:01:34"
     ]
    },
    {
     "name": "stderr",
     "output_type": "stream",
     "text": [
      "Processing states with pad_back_custom:  72%|███████▏  | 362/500 [00:14<00:05, 25.34it/s]"
     ]
    },
    {
     "name": "stdout",
     "output_type": "stream",
     "text": [
      " [*********98%***********] Elapsed 4634.70s / Remaining 00:00:01:34"
     ]
    },
    {
     "name": "stderr",
     "output_type": "stream",
     "text": [
      "Processing states with pad_back_custom:  89%|████████▊ | 443/500 [00:18<00:02, 24.02it/s]"
     ]
    },
    {
     "name": "stdout",
     "output_type": "stream",
     "text": [
      " [*********98%***********] Elapsed 4638.01s / Remaining 00:00:01:34"
     ]
    },
    {
     "name": "stderr",
     "output_type": "stream",
     "text": [
      "Processing states with pad_back_custom:  93%|█████████▎| 467/500 [00:19<00:01, 24.92it/s]"
     ]
    },
    {
     "name": "stdout",
     "output_type": "stream",
     "text": [
      " Total run time: 4639.18s] Elapsed 4639.18s / Remaining 00:00:00:00\n"
     ]
    },
    {
     "name": "stderr",
     "output_type": "stream",
     "text": [
      "Processing states with pad_back_custom: 100%|██████████| 500/500 [00:20<00:00, 24.55it/s]\n",
      "Processing states with pad_back_custom:  21%|██        | 106/500 [00:04<00:15, 25.30it/s]"
     ]
    },
    {
     "name": "stdout",
     "output_type": "stream",
     "text": [
      " [*********98%***********] Elapsed 4643.29s / Remaining 00:00:01:34"
     ]
    },
    {
     "name": "stderr",
     "output_type": "stream",
     "text": [
      "Processing states with pad_back_custom:  30%|██▉       | 149/500 [00:05<00:12, 27.46it/s]"
     ]
    },
    {
     "name": "stdout",
     "output_type": "stream",
     "text": [
      " [*********98%***********] Elapsed 4645.11s / Remaining 00:00:01:34"
     ]
    },
    {
     "name": "stderr",
     "output_type": "stream",
     "text": [
      "Processing states with pad_back_custom:  46%|████▌     | 230/500 [00:08<00:10, 25.34it/s]"
     ]
    },
    {
     "name": "stdout",
     "output_type": "stream",
     "text": [
      " [*********98%***********] Elapsed 4648.00s / Remaining 00:00:01:34"
     ]
    },
    {
     "name": "stderr",
     "output_type": "stream",
     "text": [
      "Processing states with pad_back_custom:  62%|██████▏   | 312/500 [00:11<00:06, 27.37it/s]"
     ]
    },
    {
     "name": "stdout",
     "output_type": "stream",
     "text": [
      " [*********98%***********] Elapsed 4651.25s / Remaining 00:00:01:34"
     ]
    },
    {
     "name": "stderr",
     "output_type": "stream",
     "text": [
      "Processing states with pad_back_custom:  74%|███████▍  | 370/500 [00:14<00:04, 28.24it/s]"
     ]
    },
    {
     "name": "stdout",
     "output_type": "stream",
     "text": [
      " [*********98%***********] Elapsed 4653.18s / Remaining 00:00:01:34"
     ]
    },
    {
     "name": "stderr",
     "output_type": "stream",
     "text": [
      "Processing states with pad_back_custom:  89%|████████▉ | 447/500 [00:17<00:01, 27.64it/s]"
     ]
    },
    {
     "name": "stdout",
     "output_type": "stream",
     "text": [
      " [*********98%***********] Elapsed 4656.18s / Remaining 00:00:01:35"
     ]
    },
    {
     "name": "stderr",
     "output_type": "stream",
     "text": [
      "Processing states with pad_back_custom: 100%|██████████| 500/500 [00:19<00:00, 26.03it/s]\n"
     ]
    },
    {
     "name": "stdout",
     "output_type": "stream",
     "text": [
      " Total run time: 4713.01s] Elapsed 4713.01s / Remaining 00:00:00:00\n"
     ]
    },
    {
     "name": "stderr",
     "output_type": "stream",
     "text": [
      "Processing states with pad_back_custom:  19%|█▊        | 93/500 [00:03<00:15, 26.87it/s]"
     ]
    },
    {
     "name": "stdout",
     "output_type": "stream",
     "text": [
      " [********100%***********] Elapsed 4716.33s / Remaining 00:00:00:00"
     ]
    },
    {
     "name": "stderr",
     "output_type": "stream",
     "text": [
      "Processing states with pad_back_custom:  27%|██▋       | 133/500 [00:04<00:12, 28.67it/s]"
     ]
    },
    {
     "name": "stdout",
     "output_type": "stream",
     "text": [
      " Total run time: 4717.85s] Elapsed 4717.85s / Remaining 00:00:00:00\n"
     ]
    },
    {
     "name": "stderr",
     "output_type": "stream",
     "text": [
      "Processing states with pad_back_custom:   0%|          | 0/500 [00:00<?, ?it/s]26.53it/s]"
     ]
    },
    {
     "name": "stdout",
     "output_type": "stream",
     "text": [
      " Total run time: 4723.92s] Elapsed 4723.92s / Remaining 00:00:00:00\n"
     ]
    },
    {
     "name": "stderr",
     "output_type": "stream",
     "text": [
      "Processing states with pad_back_custom: 100%|██████████| 500/500 [00:18<00:00, 27.40it/s]\n",
      "Processing states with pad_back_custom: 100%|██████████| 500/500 [00:18<00:00, 27.61it/s]\n",
      "Processing states with pad_back_custom: 100%|██████████| 500/500 [00:17<00:00, 28.79it/s]\n"
     ]
    }
   ],
   "source": [
    "# state_leak_dressed = qutip.basis(max_ql * max_ol, system.product_to_dressed[(1,0)])\n",
    "state_0_dressed = qutip.basis(max_ql * max_ol, system.product_to_dressed[(0,0)])\n",
    "state_1_dressed = qutip.basis(max_ql * max_ol, system.product_to_dressed[(2,0)])\n",
    "state_plus_X_dressed = (state_0_dressed +  state_1_dressed).unit()\n",
    "state_minus_X_dressed = (state_0_dressed - state_1_dressed).unit()\n",
    "state_plus_Y_dressed = (state_0_dressed + 1j * state_1_dressed).unit()\n",
    "state_minus_Y_dressed = (state_0_dressed - 1j * state_1_dressed).unit()\n",
    "\n",
    "initial_states  = [\n",
    "                    # state_leak_dressed,\n",
    "                   state_0_dressed,\n",
    "                   state_1_dressed,\n",
    "                   state_plus_X_dressed,\n",
    "                   state_minus_X_dressed,\n",
    "                   state_plus_Y_dressed,\n",
    "                   state_minus_Y_dressed\n",
    "                   ]\n",
    "\n",
    "# leakage_products_to_keep = [[ql, ol] for ql in [1] for ol in range(max_ol) ]\n",
    "computational_products_to_keep = [[ql, ol] for ql in range(10) for ol in range(100) ]\n",
    "list_of_products_to_keep = [\n",
    "    # leakage_products_to_keep,\n",
    "    computational_products_to_keep,\n",
    "    computational_products_to_keep,\n",
    "    computational_products_to_keep,\n",
    "    computational_products_to_keep,\n",
    "    computational_products_to_keep,\n",
    "    computational_products_to_keep\n",
    "]\n",
    "\n",
    "list_of_systems = []\n",
    "list_of_kwargs = []\n",
    "for products_to_keep, y0 in zip(list_of_products_to_keep, initial_states):\n",
    "    system.set_new_product_to_keep(products_to_keep)\n",
    "    system.set_new_operators_after_setting_new_product_to_keep()\n",
    "    list_of_systems.append(deepcopy(system))\n",
    "    list_of_kwargs.append( {\n",
    "        'y0':system.truncate_function(y0) ,\n",
    "        'tlist':tlist,\n",
    "        'drive_terms':[DriveTerm( \n",
    "                            driven_op= system.driven_operator,\n",
    "                            pulse_shape_func=square_pulse_with_rise_fall,\n",
    "                            pulse_shape_args={\n",
    "                                'w_d': w_d ,\n",
    "                                'amp': amp,\n",
    "                                't_rise': 20,\n",
    "                                't_square': tot_time\n",
    "                            })],\n",
    "        'e_ops':[system.a_trunc , system.a_trunc.dag()*system.a_trunc],\n",
    "        # 'c_ops':[kappa *qutip.lindblad_dissipator(system.a_trunc) ]\n",
    "        })\n",
    "    \n",
    "\n",
    "results = run_parallel_ODEsolve_and_post_process_jobs_with_different_systems(\n",
    "    list_of_systems,\n",
    "    list_of_kwargs,\n",
    "    post_processing = ['pad_back']\n",
    ")\n",
    "\n",
    "import pickle\n",
    "with open('sesolve_large_dim_a01_tomo.pkl', 'wb') as file:\n",
    "    pickle.dump(results, file)\n"
   ]
  },
  {
   "cell_type": "code",
   "execution_count": null,
   "metadata": {},
   "outputs": [],
   "source": [
    "import pickle\n",
    "with open('sesolve_large_dim_a01_tomo.pkl', 'rb') as file:\n",
    "    results = pickle.load(file)\n"
   ]
  }
 ],
 "metadata": {
  "kernelspec": {
   "display_name": "test",
   "language": "python",
   "name": "python3"
  },
  "language_info": {
   "codemirror_mode": {
    "name": "ipython",
    "version": 3
   },
   "file_extension": ".py",
   "mimetype": "text/x-python",
   "name": "python",
   "nbconvert_exporter": "python",
   "pygments_lexer": "ipython3",
   "version": "3.10.13"
  }
 },
 "nbformat": 4,
 "nbformat_minor": 2
}
