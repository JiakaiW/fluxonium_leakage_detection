{
 "cells": [
  {
   "cell_type": "code",
   "execution_count": 1,
   "metadata": {
    "jupyter": {
     "source_hidden": true
    }
   },
   "outputs": [],
   "source": [
    "import numpy as np\n",
    "import matplotlib.pyplot as plt\n",
    "from matplotlib.colors import LogNorm\n",
    "import scqubits\n",
    "from functools import partial\n",
    "import qutip\n",
    "import concurrent\n",
    "from loky import get_reusable_executor\n",
    "import numpy as np\n",
    "import qutip\n",
    "import scqubits\n",
    "from typing import List, Union,Any\n",
    "\n",
    "from CoupledQuantumSystems.qobj_manip import *\n",
    "from CoupledQuantumSystems.drive import *\n",
    "from CoupledQuantumSystems.evo import ODEsolve_and_post_process\n",
    "from CoupledQuantumSystems.noise import *\n",
    "from CoupledQuantumSystems.qobj_manip import *\n",
    "from CoupledQuantumSystems.IFQ import gfIFQ"
   ]
  },
  {
   "cell_type": "code",
   "execution_count": 20,
   "metadata": {},
   "outputs": [
    {
     "name": "stderr",
     "output_type": "stream",
     "text": [
      "RuntimeWarning: divide by zero encountered in scalar divide\n",
      " /home/kai/miniconda3/envs/test/lib/python3.10/site-packages/CoupledQuantumSystems/IFQ.py: 63"
     ]
    }
   ],
   "source": [
    "EJ = 4\n",
    "EC = EJ/2\n",
    "EL = EJ/30\n",
    "\n",
    "\n",
    "max_ql = 18\n",
    "qbt = gfIFQ(EJ=EJ, EC=EC, EL=EL, truncated_dim=max_ql)\n",
    "tlist = np.linspace(0, int(1e4), 1000)\n",
    "\n",
    "temp_in_mK =20\n",
    "Q = 1e5\n",
    "one_over_f_flux_noise_amplitude = 1e-6\n",
    "\n",
    "c_ops=qbt.get_T1_c_ops(temp_in_mK,\n",
    "                        Q,\n",
    "                        one_over_f_flux_noise_amplitude)\n",
    "\n",
    "qls = np.arange(max_ql)\n",
    "e_ops = [qutip.ket2dm(qutip.basis(qbt.truncated_dim, i)) for i in qls]\n",
    "\n"
   ]
  },
  {
   "cell_type": "code",
   "execution_count": 21,
   "metadata": {},
   "outputs": [
    {
     "name": "stdout",
     "output_type": "stream",
     "text": [
      "&0&1&2&3&4&5&6&7&8&9&10&11&12&13&14&15&16&17\n"
     ]
    }
   ],
   "source": [
    "print(''.join([f'&{i}' for i in range(len(qls))]))"
   ]
  },
  {
   "cell_type": "code",
   "execution_count": 22,
   "metadata": {},
   "outputs": [
    {
     "name": "stdout",
     "output_type": "stream",
     "text": [
      "cccccccccccccccccccc\n"
     ]
    }
   ],
   "source": [
    "print(''.join(['c' for i in range(len(qls)+2)]))"
   ]
  },
  {
   "cell_type": "code",
   "execution_count": 24,
   "metadata": {},
   "outputs": [
    {
     "name": "stdout",
     "output_type": "stream",
     "text": [
      "0&8763.6187& &1.00& & & & & & & & & & & & & & & & \\\\\n",
      "\n",
      "1&20.1219&0.76& &0.24& & & & & & & & & & & & & & & \\\\\n",
      "\n",
      "2&59.3950& &0.99& & & & & & & & & & & & & & & & \\\\\n",
      "\n",
      "3&2.1522&0.50& &0.49& & & & & & & & & & & & & & & \\\\\n",
      "\n",
      "4&1.6354& &0.35& &0.63& &0.03& & & & & & & & & & & & \\\\\n",
      "\n",
      "5&1.9487&0.06& &0.20& &0.65& &0.09& & & & & & & & & & & \\\\\n",
      "\n",
      "6&3.1815& & & &0.03& &0.77& &0.20& & & & & & & & & & \\\\\n",
      "\n",
      "7&2.7437&0.05& &0.16& &0.12& &0.65& &0.02& & & & & & & & & \\\\\n",
      "\n",
      "8&1.0416& &0.04& & & &0.15& &0.80& & & & & & & & & & \\\\\n",
      "\n",
      "9&0.9260& & & & &0.02& &0.06& &0.89& &0.02& & & & & & & \\\\\n",
      "\n",
      "10&0.9090& &0.02& & & &0.03& &0.07& &0.85& &0.02& & & & & & \\\\\n",
      "\n",
      "11&0.8102& & & & &0.02& &0.07& & & &0.89& &0.02& & & & & \\\\\n",
      "\n",
      "12&0.7098& & & &0.01& &0.03& &0.01& & & &0.93& &0.02& & & & \\\\\n",
      "\n",
      "13&0.7040& & & & & & & & & & &0.01& &0.92& &0.05& & & \\\\\n",
      "\n",
      "14&1.0368& & & & & & & & & & & & & &0.86& &0.13& & \\\\\n",
      "\n",
      "15&1.1515& & & & & & &0.01& & & & & &0.10& &0.81& &0.07& \\\\\n",
      "\n",
      "16&0.6872& & & & & & & & & & & &0.02& &0.16& &0.78& &0.02\\\\\n",
      "\n",
      "17&0.5756& & & & & & & & & & & & & & & & &0.97& \\\\\n",
      "\n"
     ]
    }
   ],
   "source": [
    "for ql in qls:\n",
    "    gamma_arr = np.square(c_ops[:,ql]).flatten().real\n",
    "    gamma_sum = np.sum(gamma_arr)\n",
    "    gamma_arr = np.copy(gamma_arr)\n",
    "    gamma_arr /= gamma_sum\n",
    "    # print(f\"sum: {gamma_sum}\")\n",
    "\n",
    "    print(f\"{ql}&{1/gamma_sum/1000:.4f}\"+''.join([f\"&{gamma:.2f}\" if gamma >= 0.01 else '& ' for gamma in gamma_arr])+'\\\\\\\\\\n')"
   ]
  },
  {
   "cell_type": "code",
   "execution_count": null,
   "metadata": {},
   "outputs": [],
   "source": []
  }
 ],
 "metadata": {
  "kernelspec": {
   "display_name": "test",
   "language": "python",
   "name": "python3"
  },
  "language_info": {
   "codemirror_mode": {
    "name": "ipython",
    "version": 3
   },
   "file_extension": ".py",
   "mimetype": "text/x-python",
   "name": "python",
   "nbconvert_exporter": "python",
   "pygments_lexer": "ipython3",
   "version": "3.10.13"
  }
 },
 "nbformat": 4,
 "nbformat_minor": 4
}
