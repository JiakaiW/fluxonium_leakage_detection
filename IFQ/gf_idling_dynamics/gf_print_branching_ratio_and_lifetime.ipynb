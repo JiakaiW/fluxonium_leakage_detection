{
 "cells": [
  {
   "cell_type": "code",
   "execution_count": 1,
   "metadata": {
    "jupyter": {
     "source_hidden": true
    }
   },
   "outputs": [],
   "source": [
    "import numpy as np\n",
    "import matplotlib.pyplot as plt\n",
    "from matplotlib.colors import LogNorm\n",
    "import scqubits\n",
    "from functools import partial\n",
    "import qutip\n",
    "import concurrent\n",
    "from loky import get_reusable_executor\n",
    "import numpy as np\n",
    "import qutip\n",
    "import scqubits\n",
    "from typing import List, Union,Any\n",
    "\n",
    "from CoupledQuantumSystems.qobj_manip import *\n",
    "from CoupledQuantumSystems.drive import *\n",
    "from CoupledQuantumSystems.evo import ODEsolve_and_post_process\n",
    "from CoupledQuantumSystems.noise import *\n",
    "from CoupledQuantumSystems.qobj_manip import *\n",
    "from CoupledQuantumSystems.IFQ import gfIFQ"
   ]
  },
  {
   "cell_type": "code",
   "execution_count": 2,
   "metadata": {},
   "outputs": [
    {
     "name": "stderr",
     "output_type": "stream",
     "text": [
      "RuntimeWarning: divide by zero encountered in scalar divide\n",
      " /home/kai/miniconda3/envs/test/lib/python3.10/site-packages/CoupledQuantumSystems/IFQ.py: 63"
     ]
    }
   ],
   "source": [
    "EJ = 4\n",
    "EC = EJ / 2.7\n",
    "EL = EJ / 45\n",
    "\n",
    "max_ql = 18\n",
    "qbt = gfIFQ(EJ=EJ, EC=EC, EL=EL, truncated_dim=max_ql)\n",
    "tlist = np.linspace(0, int(1e4), 1000)\n",
    "\n",
    "temp_in_mK =20\n",
    "loss_tangent_ref = 5e-6\n",
    "one_over_f_flux_noise_amplitude = 1e-6\n",
    "\n",
    "c_ops=qbt.get_T1_c_ops(temp_in_mK,\n",
    "                        loss_tangent_ref,\n",
    "                        one_over_f_flux_noise_amplitude)\n",
    "\n",
    "qls = np.arange(max_ql)\n",
    "e_ops = [qutip.ket2dm(qutip.basis(qbt.truncated_dim, i)) for i in qls]\n",
    "\n"
   ]
  },
  {
   "cell_type": "code",
   "execution_count": 3,
   "metadata": {},
   "outputs": [
    {
     "name": "stdout",
     "output_type": "stream",
     "text": [
      "&0&1&2&3&4&5&6&7&8&9&10&11&12&13&14&15&16&17\n"
     ]
    }
   ],
   "source": [
    "print(''.join([f'&{i}' for i in range(len(qls))]))"
   ]
  },
  {
   "cell_type": "code",
   "execution_count": 4,
   "metadata": {},
   "outputs": [
    {
     "name": "stdout",
     "output_type": "stream",
     "text": [
      "cccccccccccccccccccc\n"
     ]
    }
   ],
   "source": [
    "print(''.join(['c' for i in range(len(qls)+2)]))"
   ]
  },
  {
   "cell_type": "code",
   "execution_count": 5,
   "metadata": {},
   "outputs": [
    {
     "name": "stdout",
     "output_type": "stream",
     "text": [
      "0&5730.83& &0.99& & & & & & & & & & & & & & & & \\\\\n",
      "\n",
      "1&81.39&0.79& &0.21& & & & & & & & & & & & & & & \\\\\n",
      "\n",
      "2&339.23& &0.98& &0.02& & & & & & & & & & & & & & \\\\\n",
      "\n",
      "3&2.78&0.63& &0.35& &0.01& & & & & & & & & & & & & \\\\\n",
      "\n",
      "4&2.92& &0.50& &0.41& &0.09& & & & & & & & & & & & \\\\\n",
      "\n",
      "5&7.88&0.07& &0.17& &0.47& &0.30& & & & & & & & & & & \\\\\n",
      "\n",
      "6&4.68& &0.28& &0.26& &0.33& &0.13& & & & & & & & & & \\\\\n",
      "\n",
      "7&2.42&0.11& &0.39& &0.08& &0.40& &0.01& & & & & & & & & \\\\\n",
      "\n",
      "8&1.42& &0.05& &0.02& & & &0.90& &0.03& & & & & & & & \\\\\n",
      "\n",
      "9&1.41&0.01& & & & & &0.25& &0.68& &0.06& & & & & & & \\\\\n",
      "\n",
      "10&1.49& &0.03& &0.02& &0.21& &0.02& &0.66& &0.06& & & & & & \\\\\n",
      "\n",
      "11&1.26& & &0.01& &0.11& &0.05& & & &0.77& &0.04& & & & & \\\\\n",
      "\n",
      "12&1.13& & & &0.03& &0.05& & & & & &0.84& &0.07& & & & \\\\\n",
      "\n",
      "13&2.54& & & & & & & & & & & & &0.73& &0.26& & & \\\\\n",
      "\n",
      "14&3.51& & & &0.03& &0.05& & & & & &0.14& &0.61& &0.17& & \\\\\n",
      "\n",
      "15&1.03& & & & &0.01& & & & & &0.03& &0.42& &0.48& &0.05& \\\\\n",
      "\n",
      "16&0.91& & & &0.01& & & & & &0.01& &0.03& & & &0.88& &0.05\\\\\n",
      "\n",
      "17&0.92& & & & &0.02& & & & & &0.01& & & &0.04& &0.93& \\\\\n",
      "\n"
     ]
    }
   ],
   "source": [
    "for ql in qls:\n",
    "    gamma_arr = np.square(c_ops[:,ql]).flatten().real\n",
    "    gamma_sum = np.sum(gamma_arr)\n",
    "    gamma_arr = np.copy(gamma_arr)\n",
    "    gamma_arr /= gamma_sum\n",
    "    # print(f\"sum: {gamma_sum}\\n arr:{gamma_arr}\")\n",
    "\n",
    "    print(f\"{ql}&{1/gamma_sum/1000:.2f}\"+''.join([f\"&{gamma:.2f}\" if gamma >= 0.01 else '& ' for gamma in gamma_arr])+'\\\\\\\\\\n')"
   ]
  },
  {
   "cell_type": "code",
   "execution_count": 50,
   "metadata": {},
   "outputs": [
    {
     "data": {
      "text/plain": [
       "11"
      ]
     },
     "execution_count": 50,
     "metadata": {},
     "output_type": "execute_result"
    }
   ],
   "source": [
    "len([f\"&{gamma:.2f}\" if gamma > 0.01 else '& ' for gamma in gamma_arr])"
   ]
  },
  {
   "cell_type": "code",
   "execution_count": 42,
   "metadata": {},
   "outputs": [
    {
     "data": {
      "text/plain": [
       "20"
      ]
     },
     "execution_count": 42,
     "metadata": {},
     "output_type": "execute_result"
    }
   ],
   "source": [
    "len(gamma_arr)"
   ]
  },
  {
   "cell_type": "code",
   "execution_count": 21,
   "metadata": {},
   "outputs": [
    {
     "data": {
      "text/plain": [
       "1.0"
      ]
     },
     "execution_count": 21,
     "metadata": {},
     "output_type": "execute_result"
    }
   ],
   "source": [
    "np.sum(gamma_arr)"
   ]
  },
  {
   "cell_type": "code",
   "execution_count": 30,
   "metadata": {},
   "outputs": [
    {
     "data": {
      "text/plain": [
       "'&0.21'"
      ]
     },
     "execution_count": 30,
     "metadata": {},
     "output_type": "execute_result"
    }
   ],
   "source": [
    "i = 5\n",
    "f\"&{gamma_arr[i]:.2f}\" if gamma_arr[i] > 0.001 else '& ' "
   ]
  },
  {
   "cell_type": "code",
   "execution_count": 19,
   "metadata": {},
   "outputs": [
    {
     "data": {
      "text/plain": [
       "0.0006707382001689402"
      ]
     },
     "execution_count": 19,
     "metadata": {},
     "output_type": "execute_result"
    }
   ],
   "source": [
    "gamma_sum"
   ]
  },
  {
   "cell_type": "code",
   "execution_count": 34,
   "metadata": {},
   "outputs": [
    {
     "name": "stdout",
     "output_type": "stream",
     "text": [
      "1490.89& &0.03& &0.02& &0.21& &0.02& &0.66& &0.06& & & & & & & & \n",
      "\n"
     ]
    }
   ],
   "source": [
    "print(f\"{1/gamma_sum:.2f}\"+ ''.join([f\"&{gamma:.2f}\" if gamma > 0.001 else '& ' for gamma in gamma_arr])+'\\n')"
   ]
  },
  {
   "cell_type": "code",
   "execution_count": 31,
   "metadata": {},
   "outputs": [
    {
     "data": {
      "text/plain": [
       "['& ',\n",
       " '&0.03',\n",
       " '& ',\n",
       " '&0.02',\n",
       " '& ',\n",
       " '&0.21',\n",
       " '& ',\n",
       " '&0.02',\n",
       " '& ',\n",
       " '&0.66',\n",
       " '& ',\n",
       " '&0.06',\n",
       " '& ',\n",
       " '& ',\n",
       " '& ',\n",
       " '& ',\n",
       " '& ',\n",
       " '& ',\n",
       " '& ',\n",
       " '& ']"
      ]
     },
     "execution_count": 31,
     "metadata": {},
     "output_type": "execute_result"
    }
   ],
   "source": [
    "[f\"&{gamma:.2f}\" if gamma > 0.001 else '& ' for gamma in gamma_arr]"
   ]
  },
  {
   "cell_type": "code",
   "execution_count": 33,
   "metadata": {},
   "outputs": [
    {
     "name": "stdout",
     "output_type": "stream",
     "text": [
      "HelloworldthisisPython\n"
     ]
    }
   ],
   "source": [
    "# List of strings\n",
    "string_list = [\"Hello\", \"world\", \"this\", \"is\", \"Python\"]\n",
    "\n",
    "# Combine the list into a single string with spaces between words\n",
    "combined_string = ''.join(string_list)\n",
    "\n",
    "print(combined_string)\n"
   ]
  },
  {
   "cell_type": "code",
   "execution_count": null,
   "metadata": {},
   "outputs": [],
   "source": []
  }
 ],
 "metadata": {
  "kernelspec": {
   "display_name": "test",
   "language": "python",
   "name": "python3"
  },
  "language_info": {
   "codemirror_mode": {
    "name": "ipython",
    "version": 3
   },
   "file_extension": ".py",
   "mimetype": "text/x-python",
   "name": "python",
   "nbconvert_exporter": "python",
   "pygments_lexer": "ipython3",
   "version": "3.10.13"
  }
 },
 "nbformat": 4,
 "nbformat_minor": 4
}
