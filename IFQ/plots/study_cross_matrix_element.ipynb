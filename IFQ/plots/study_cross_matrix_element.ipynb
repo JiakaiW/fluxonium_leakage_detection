{
 "cells": [
  {
   "cell_type": "code",
   "execution_count": 2,
   "metadata": {},
   "outputs": [],
   "source": [
    "import matplotlib.gridspec as gridspec\n",
    "import scqubits\n",
    "import numpy as np\n",
    "from CoupledQuantumSystems.visualization import *\n",
    "from CoupledQuantumSystems.systems import *\n",
    "from tqdm import tqdm\n",
    "import pickle\n",
    "import scipy\n",
    "from CoupledQuantumSystems.qobj_manip import *\n",
    "from scipy.special import erfc\n",
    "from matplotlib.ticker import ScalarFormatter\n",
    "from scipy.optimize import curve_fit\n",
    "import scipy\n",
    "from scipy.special import erfc\n",
    "from skimage.transform import radon\n",
    "from CoupledQuantumSystems.qobj_manip import find_dominant_frequency,get_product_vectorized,dressed_to_product_vectorized\n",
    "from CoupledQuantumSystems.systems import FluxoniumOscillatorSystem\n",
    "import numpy as np\n",
    "from CoupledQuantumSystems.mcsolve_utils import *\n",
    "from CoupledQuantumSystems.drive import DriveTerm, square_pulse_with_rise_fall\n",
    "from CoupledQuantumSystems.mcsolve_utils import pack_mcsolve_chunks, pack_pkl_files_to_zip, merge_results\n",
    "import matplotlib.pyplot as plt\n",
    "import qutip"
   ]
  },
  {
   "cell_type": "code",
   "execution_count": 3,
   "metadata": {},
   "outputs": [],
   "source": [
    "ef_system = '../ef_larger_drive/ef_mcsolve_system_g0.2.pkl'\n",
    "gf_system = '../gf_new/gf_mcsolve_system_g3a01k002.pkl'\n",
    "\n",
    "with open(ef_system, 'rb') as f:\n",
    "    system_ef = pickle.load(f)\n",
    "qbt0 = system_ef.qbt\n",
    "with open(gf_system, 'rb') as f:\n",
    "    system_gf = pickle.load(f)"
   ]
  },
  {
   "cell_type": "code",
   "execution_count": 8,
   "metadata": {},
   "outputs": [
    {
     "data": {
      "text/plain": [
       "(0.9549078046157903+0j)"
      ]
     },
     "execution_count": 8,
     "metadata": {},
     "output_type": "execute_result"
    }
   ],
   "source": [
    "system_ef.a_trunc[\n",
    "    system_ef.product_to_dressed[(0,0)],\n",
    "    system_ef.product_to_dressed[(0,1)]\n",
    "]"
   ]
  },
  {
   "cell_type": "code",
   "execution_count": 6,
   "metadata": {},
   "outputs": [
    {
     "data": {
      "text/plain": [
       "(-9.962938929381531e-05+0j)"
      ]
     },
     "execution_count": 6,
     "metadata": {},
     "output_type": "execute_result"
    }
   ],
   "source": [
    "system_ef.a_trunc[\n",
    "    system_ef.product_to_dressed[(1,0)],\n",
    "    system_ef.product_to_dressed[(2,0)]\n",
    "]"
   ]
  },
  {
   "cell_type": "code",
   "execution_count": 7,
   "metadata": {},
   "outputs": [
    {
     "data": {
      "text/plain": [
       "(-0.00010051278064100948+0j)"
      ]
     },
     "execution_count": 7,
     "metadata": {},
     "output_type": "execute_result"
    }
   ],
   "source": [
    "system_ef.a_trunc[\n",
    "    system_ef.product_to_dressed[(1,1)],\n",
    "    system_ef.product_to_dressed[(2,1)]\n",
    "]"
   ]
  },
  {
   "cell_type": "code",
   "execution_count": 12,
   "metadata": {},
   "outputs": [
    {
     "data": {
      "text/plain": [
       "(-0.00010139756916857321+0j)"
      ]
     },
     "execution_count": 12,
     "metadata": {},
     "output_type": "execute_result"
    }
   ],
   "source": [
    "system_ef.a_trunc[\n",
    "    system_ef.product_to_dressed[(1,2)],\n",
    "    system_ef.product_to_dressed[(2,2)]\n",
    "]"
   ]
  },
  {
   "cell_type": "code",
   "execution_count": 13,
   "metadata": {},
   "outputs": [
    {
     "data": {
      "text/plain": [
       "(0.00010228388021301651+0j)"
      ]
     },
     "execution_count": 13,
     "metadata": {},
     "output_type": "execute_result"
    }
   ],
   "source": [
    "system_ef.a_trunc[\n",
    "    system_ef.product_to_dressed[(1,3)],\n",
    "    system_ef.product_to_dressed[(2,3)]\n",
    "]"
   ]
  },
  {
   "cell_type": "code",
   "execution_count": 14,
   "metadata": {},
   "outputs": [
    {
     "data": {
      "text/plain": [
       "(0.00010317183662125318+0j)"
      ]
     },
     "execution_count": 14,
     "metadata": {},
     "output_type": "execute_result"
    }
   ],
   "source": [
    "system_ef.a_trunc[\n",
    "    system_ef.product_to_dressed[(1,4)],\n",
    "    system_ef.product_to_dressed[(2,4)]\n",
    "]"
   ]
  },
  {
   "cell_type": "code",
   "execution_count": null,
   "metadata": {},
   "outputs": [],
   "source": []
  },
  {
   "cell_type": "code",
   "execution_count": 15,
   "metadata": {},
   "outputs": [
    {
     "data": {
      "text/plain": [
       "0j"
      ]
     },
     "execution_count": 15,
     "metadata": {},
     "output_type": "execute_result"
    }
   ],
   "source": [
    "system_gf.a_trunc[\n",
    "    system_gf.product_to_dressed[(0,0)],\n",
    "    system_gf.product_to_dressed[(2,0)]\n",
    "]"
   ]
  },
  {
   "cell_type": "code",
   "execution_count": 16,
   "metadata": {},
   "outputs": [
    {
     "data": {
      "text/plain": [
       "(0.0025820372384546047+0j)"
      ]
     },
     "execution_count": 16,
     "metadata": {},
     "output_type": "execute_result"
    }
   ],
   "source": [
    "system_gf.a_trunc[\n",
    "    system_gf.product_to_dressed[(0,0)],\n",
    "    system_gf.product_to_dressed[(1,0)]\n",
    "]"
   ]
  },
  {
   "cell_type": "code",
   "execution_count": 17,
   "metadata": {},
   "outputs": [
    {
     "data": {
      "text/plain": [
       "(-0.0007523111577341539+0j)"
      ]
     },
     "execution_count": 17,
     "metadata": {},
     "output_type": "execute_result"
    }
   ],
   "source": [
    "system_gf.a_trunc[\n",
    "    system_gf.product_to_dressed[(1,0)],\n",
    "    system_gf.product_to_dressed[(2,0)]\n",
    "]"
   ]
  },
  {
   "cell_type": "code",
   "execution_count": 18,
   "metadata": {},
   "outputs": [
    {
     "data": {
      "text/plain": [
       "(-0.0024973612474864394+0j)"
      ]
     },
     "execution_count": 18,
     "metadata": {},
     "output_type": "execute_result"
    }
   ],
   "source": [
    "system_gf.a_trunc[\n",
    "    system_gf.product_to_dressed[(0,1)],\n",
    "    system_gf.product_to_dressed[(1,1)]\n",
    "]"
   ]
  },
  {
   "cell_type": "code",
   "execution_count": 19,
   "metadata": {},
   "outputs": [
    {
     "data": {
      "text/plain": [
       "(-0.0006940652815118728+0j)"
      ]
     },
     "execution_count": 19,
     "metadata": {},
     "output_type": "execute_result"
    }
   ],
   "source": [
    "system_gf.a_trunc[\n",
    "    system_gf.product_to_dressed[(1,2)],\n",
    "    system_gf.product_to_dressed[(2,2)]\n",
    "]"
   ]
  },
  {
   "cell_type": "code",
   "execution_count": 20,
   "metadata": {},
   "outputs": [
    {
     "data": {
      "text/plain": [
       "(-0.0006690996181055477+0j)"
      ]
     },
     "execution_count": 20,
     "metadata": {},
     "output_type": "execute_result"
    }
   ],
   "source": [
    "system_gf.a_trunc[\n",
    "    system_gf.product_to_dressed[(1,3)],\n",
    "    system_gf.product_to_dressed[(2,3)]\n",
    "]"
   ]
  },
  {
   "cell_type": "code",
   "execution_count": null,
   "metadata": {},
   "outputs": [],
   "source": []
  }
 ],
 "metadata": {
  "kernelspec": {
   "display_name": "test",
   "language": "python",
   "name": "python3"
  },
  "language_info": {
   "codemirror_mode": {
    "name": "ipython",
    "version": 3
   },
   "file_extension": ".py",
   "mimetype": "text/x-python",
   "name": "python",
   "nbconvert_exporter": "python",
   "pygments_lexer": "ipython3",
   "version": "3.10.13"
  }
 },
 "nbformat": 4,
 "nbformat_minor": 2
}
