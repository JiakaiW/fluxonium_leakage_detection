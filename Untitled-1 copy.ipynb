{
 "cells": [
  {
   "cell_type": "code",
   "execution_count": null,
   "metadata": {},
   "outputs": [],
   "source": [
    "import subprocess\n",
    "\n",
    "# Define the install and remove commands\n",
    "install_command = [\"conda\", \"install\", \"-y\", \"-c\", \"conda-forge\", \"scqubits\"]\n",
    "remove_command = [\"conda\", \"remove\", \"-y\", \"scqubits\"]\n",
    "\n",
    "# Loop to install and remove the package 10,000 times\n",
    "for i in range(10000):\n",
    "    print(f\"Iteration {i+1}: Installing scqubits\")\n",
    "    subprocess.run(install_command, check=True)\n",
    "    \n",
    "    print(f\"Iteration {i+1}: Removing scqubits\")\n",
    "    subprocess.run(remove_command, check=True)\n"
   ]
  }
 ],
 "metadata": {
  "kernelspec": {
   "display_name": "qiskit",
   "language": "python",
   "name": "python3"
  },
  "language_info": {
   "name": "python",
   "version": "3.10.15"
  }
 },
 "nbformat": 4,
 "nbformat_minor": 2
}
