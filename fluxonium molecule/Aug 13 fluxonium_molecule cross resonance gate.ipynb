{
 "cells": [
  {
   "cell_type": "code",
   "execution_count": 1,
   "metadata": {},
   "outputs": [],
   "source": [
    "import scqubits\n",
    "import qutip\n",
    "import qutip\n",
    "import numpy as np\n",
    "from IPython.display import clear_output\n",
    "import matplotlib.pyplot as plt"
   ]
  },
  {
   "cell_type": "markdown",
   "metadata": {},
   "source": [
    "# Add drive and evolve two molecule,\n",
    "\n",
    "### The coupling operator is $g (C_A^1 \\hat{n}_A^1+C_A^2 \\hat{n}_A^2)(C_B^1 \\hat{n}_B^1+C_B^2 \\hat{n}_B^2)$"
   ]
  },
  {
   "cell_type": "markdown",
   "metadata": {},
   "source": [
    "# First, define the hillbert space of two molecules"
   ]
  },
  {
   "cell_type": "code",
   "execution_count": 2,
   "metadata": {},
   "outputs": [],
   "source": [
    "EJ1 = 4\n",
    "EJ2 = 3.5\n",
    "EC = 1\n",
    "EL = 1\n",
    "molecule_coupling = 0.1\n",
    "inter_molecule_coupling = 0.3\n",
    "flux_ext = 0.5\n",
    "g = 0.3\n",
    "assymetry1 = 0.003\n",
    "flux_1 = (2+assymetry1)/2*flux_ext\n",
    "flux_2 = (2-assymetry1)/2*flux_ext\n",
    "assymetry2 = 0.006\n",
    "flux_3 = (2+assymetry2)/2*flux_ext\n",
    "flux_4 = (2-assymetry2)/2*flux_ext\n",
    "qubit_levels = 5\n",
    "\n",
    "qubit1 = scqubits.Fluxonium(EJ = EJ1,\n",
    "                    EC =EC,\n",
    "                    EL = EL,\n",
    "                    flux = flux_1,\n",
    "                    cutoff = 110,\n",
    "                    truncated_dim = qubit_levels)\n",
    "qubit2 = scqubits.Fluxonium(EJ = EJ1,\n",
    "                    EC =EC,\n",
    "                    EL = EL,\n",
    "                    flux = flux_2,\n",
    "                    cutoff = 110,\n",
    "                    truncated_dim = qubit_levels)\n",
    "\n",
    "qubit3 = scqubits.Fluxonium(EJ = EJ2,\n",
    "                    EC =EC,\n",
    "                    EL = EL,\n",
    "                    flux = flux_3,\n",
    "                    cutoff = 110,\n",
    "                    truncated_dim = qubit_levels)\n",
    "qubit4 = scqubits.Fluxonium(EJ = EJ2,\n",
    "                    EC =EC,\n",
    "                    EL = EL,\n",
    "                    flux = flux_4,\n",
    "                    cutoff = 110,\n",
    "                    truncated_dim = qubit_levels)\n",
    "\n",
    "\n",
    "hilbertspace = scqubits.HilbertSpace([qubit1,qubit2,qubit3,qubit4])\n",
    "\n",
    "hilbertspace.add_interaction(\n",
    "    g_strength=molecule_coupling, op1=qubit1.phi_operator, op2=qubit2.phi_operator, add_hc=False\n",
    ")\n",
    "hilbertspace.add_interaction(\n",
    "    g_strength=molecule_coupling, op1=qubit3.phi_operator, op2=qubit4.phi_operator, add_hc=False\n",
    ")\n",
    "\n",
    "\n",
    "CA1, CA2, CB1, CB2 = (0.5,0.5,0.5,0.5)\n",
    "hilbertspace.add_interaction(\n",
    "   qobj = inter_molecule_coupling * (\n",
    "        CA1 * qutip.tensor(\n",
    "        qutip.Qobj(qubit1.n_operator(energy_esys  = False)[:qubit_levels, :qubit_levels]),\n",
    "        qutip.identity(dims = qubit2.truncated_dim),\n",
    "        qutip.identity(dims = qubit3.truncated_dim),\n",
    "        qutip.identity(dims = qubit4.truncated_dim))\n",
    "        + CA2 * qutip.tensor(\n",
    "        qutip.identity(dims = qubit1.truncated_dim),\n",
    "        qutip.Qobj(qubit2.n_operator(energy_esys  = False)[:qubit_levels, :qubit_levels]),\n",
    "        qutip.identity(dims = qubit3.truncated_dim),\n",
    "        qutip.identity(dims = qubit4.truncated_dim))\n",
    "   ) * (\n",
    "    CB1 * qutip.tensor(\n",
    "        qutip.identity(dims = qubit1.truncated_dim),\n",
    "        qutip.identity(dims = qubit3.truncated_dim),\n",
    "        qutip.Qobj(qubit3.n_operator(energy_esys  = False)[:qubit_levels, :qubit_levels]),\n",
    "        qutip.identity(dims = qubit4.truncated_dim)\n",
    "    )\n",
    "    + CB2 *qutip.tensor(\n",
    "        qutip.identity(dims = qubit1.truncated_dim),\n",
    "        qutip.identity(dims = qubit3.truncated_dim),\n",
    "        qutip.identity(dims = qubit4.truncated_dim),\n",
    "        qutip.Qobj(qubit4.n_operator(energy_esys  = False)[:qubit_levels, :qubit_levels]),\n",
    "    )\n",
    "    \n",
    "   )\n",
    ")"
   ]
  },
  {
   "cell_type": "code",
   "execution_count": 4,
   "metadata": {},
   "outputs": [],
   "source": [
    "\n",
    "def find_corresponding_dressed_eigenstate_index(state1, state2,H_coupled):\n",
    "    eigenstates_coupled = H_coupled.eigenstates()[1]\n",
    "    product_state = qutip.tensor(state1, state2)\n",
    "    overlaps = [qutip.metrics.fidelity(eigenstate, product_state) for eigenstate in eigenstates_coupled]\n",
    "    max_overlap = max(overlaps)\n",
    "    most_overlapping_index = overlaps.index(max_overlap)\n",
    "    return most_overlapping_index, max_overlap\n"
   ]
  },
  {
   "cell_type": "code",
   "execution_count": null,
   "metadata": {},
   "outputs": [],
   "source": []
  },
  {
   "cell_type": "code",
   "execution_count": null,
   "metadata": {},
   "outputs": [],
   "source": []
  },
  {
   "cell_type": "code",
   "execution_count": null,
   "metadata": {},
   "outputs": [],
   "source": []
  }
 ],
 "metadata": {
  "kernelspec": {
   "display_name": "tensorflow",
   "language": "python",
   "name": "python3"
  },
  "language_info": {
   "codemirror_mode": {
    "name": "ipython",
    "version": 3
   },
   "file_extension": ".py",
   "mimetype": "text/x-python",
   "name": "python",
   "nbconvert_exporter": "python",
   "pygments_lexer": "ipython3",
   "version": "3.10.8"
  },
  "orig_nbformat": 4
 },
 "nbformat": 4,
 "nbformat_minor": 2
}
